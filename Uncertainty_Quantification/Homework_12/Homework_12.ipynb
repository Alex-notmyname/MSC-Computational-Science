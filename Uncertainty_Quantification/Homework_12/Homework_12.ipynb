{
 "cells": [
  {
   "cell_type": "markdown",
   "metadata": {},
   "source": [
    "### Sobol representation\n",
    "\n",
    "$$\n",
    "f(Z) = Z_1 + Z_2^2 + Z_1Z_2 + Z_2Z_3^2\n",
    "$$"
   ]
  },
  {
   "cell_type": "markdown",
   "metadata": {},
   "source": [
    "#### Estimate the variance of f(Z)"
   ]
  },
  {
   "cell_type": "code",
   "execution_count": 77,
   "metadata": {},
   "outputs": [
    {
     "name": "stdout",
     "output_type": "stream",
     "text": [
      "Variance of f(Z) is 0.5062312908026864\n"
     ]
    }
   ],
   "source": [
    "import numpy as np\n",
    "\n",
    "sample_num = 100000\n",
    "z1 = np.random.uniform(0,1,size=sample_num)\n",
    "z2 = np.random.uniform(0,1,size=sample_num)\n",
    "z3 = np.random.uniform(0,1,size=sample_num)\n",
    "\n",
    "def f(z1, z2, z3):\n",
    "    f = z1 + z2**2 + z1*z2 + z2*(z3**2)\n",
    "    return f\n",
    "\n",
    "fz = np.zeros(sample_num)\n",
    "for i in range(sample_num):\n",
    "    fz[i] = f(z1[i], z2[i], z3[i])\n",
    "\n",
    "D = np.var(fz)\n",
    "\n",
    "print('Variance of f(Z) is ' + str(D))\n"
   ]
  },
  {
   "cell_type": "markdown",
   "metadata": {},
   "source": [
    "#### Estimate the variance of sobol expansion terms"
   ]
  },
  {
   "cell_type": "code",
   "execution_count": 79,
   "metadata": {},
   "outputs": [
    {
     "name": "stdout",
     "output_type": "stream",
     "text": [
      "Variances of sobol terms are:  [0.         0.1868507  0.2851166  0.02221831 0.00693062 0.\n",
      " 0.0074243 ]\n"
     ]
    }
   ],
   "source": [
    "def sobol_func(z1, z2, z3):\n",
    "    f0 = 7/4\n",
    "    fz1 = 3/2 *z1 - 5/4\n",
    "    fz2 = z2**2 + 5/6 * z2 - 5/4\n",
    "    fz3 = 1/2 * z3**2 - 2/3\n",
    "    fz1z2 = z1*z2 - 1/2 * (z1+z2) + 3/4\n",
    "    fz1z3 = 1/2\n",
    "    fz2z3 = (z2-1/2) * z3**2 - 1/3 * z2 + 2/3\n",
    "\n",
    "    return f0, fz1, fz2, fz3, fz1z2, fz1z3, fz2z3\n",
    "\n",
    "f_sobol = np.zeros((7, sample_num))\n",
    "\n",
    "for i in range(sample_num):\n",
    "    sobol_terms = sobol_func(z1[i], z2[i], z3[i])\n",
    "    for j in range(7):\n",
    "        f_sobol[j, i] = sobol_terms[j]\n",
    "\n",
    "D_sobol = np.var(f_sobol, axis=1)\n",
    "\n",
    "print('Variances of sobol terms are: ', D_sobol)\n"
   ]
  },
  {
   "cell_type": "code",
   "execution_count": 82,
   "metadata": {},
   "outputs": [
    {
     "name": "stdout",
     "output_type": "stream",
     "text": [
      "Sobol indices of f(Z) are:  [0.         0.36910144 0.56321409 0.04388964 0.01369061 0.\n",
      " 0.01466582]\n"
     ]
    }
   ],
   "source": [
    "S = D_sobol / D\n",
    "\n",
    "print('Sobol indices of f(Z) are: ', S)"
   ]
  },
  {
   "cell_type": "code",
   "execution_count": null,
   "metadata": {},
   "outputs": [],
   "source": []
  }
 ],
 "metadata": {
  "interpreter": {
   "hash": "5fdd5d292a9b6f34e0661329dc70a90de1dc19326df9dbf72be382a0607df2b1"
  },
  "kernelspec": {
   "display_name": "Python 3.9.6 64-bit ('myproject': conda)",
   "language": "python",
   "name": "python3"
  },
  "language_info": {
   "codemirror_mode": {
    "name": "ipython",
    "version": 3
   },
   "file_extension": ".py",
   "mimetype": "text/x-python",
   "name": "python",
   "nbconvert_exporter": "python",
   "pygments_lexer": "ipython3",
   "version": "3.9.6"
  },
  "orig_nbformat": 4
 },
 "nbformat": 4,
 "nbformat_minor": 2
}
