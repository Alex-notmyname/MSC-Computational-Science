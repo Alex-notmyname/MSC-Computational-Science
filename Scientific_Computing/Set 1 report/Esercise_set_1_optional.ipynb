{
 "cells": [
  {
   "cell_type": "code",
   "execution_count": null,
   "metadata": {},
   "outputs": [],
   "source": []
  },
  {
   "cell_type": "code",
   "execution_count": 2,
   "metadata": {},
   "outputs": [],
   "source": [
    "import numpy as np\n",
    "import matplotlib\n",
    "import matplotlib.pyplot as plt\n",
    "import multiprocessing as mp\n",
    "from matplotlib import animation"
   ]
  },
  {
   "cell_type": "markdown",
   "metadata": {},
   "source": [
    "## Bonus exercise: incorporate objects with insulating material"
   ]
  },
  {
   "cell_type": "markdown",
   "metadata": {},
   "source": [
    "### Object detector"
   ]
  },
  {
   "cell_type": "code",
   "execution_count": 3,
   "metadata": {},
   "outputs": [],
   "source": [
    "def object_detector(i, j, num=0, length=0, lower_bound=0, upper_bound=1):\n",
    "    num = num \n",
    "    l = length\n",
    "    passcheck = 0\n",
    "\n",
    "    a1 = (1-l)/2\n",
    "    b1 = (1+l)/2\n",
    "\n",
    "    a2 = (1-2*l)/3\n",
    "    a3 = (2-l)/3\n",
    "    b2 = (1+l)/3\n",
    "    b3 = (2+2*l)/3\n",
    "\n",
    "    if num == 1:\n",
    "        if ((j > a1) and (j < b1)) and ((i > a1) and (i < b1)):\n",
    "            passcheck = 1\n",
    "\n",
    "    if num == 2:\n",
    "        if ((j > a1) and (j < b1)) and \\\n",
    "            (((i > a2) and (i < b2)) or ((i > a3) and (i < b3))):\n",
    "            passcheck = 1\n",
    "\n",
    "    if num == 4:\n",
    "        if (((j > a2) and (j < b2)) or ((j > a3) and (j < b3))) and \\\n",
    "            (((i > a2) and (i < b2)) or ((i > a3) and (i < b3))):\n",
    "            passcheck = 1\n",
    "    \n",
    "    return passcheck\n"
   ]
  },
  {
   "cell_type": "markdown",
   "metadata": {},
   "source": [
    "###  Insulating material"
   ]
  },
  {
   "cell_type": "code",
   "execution_count": 4,
   "metadata": {},
   "outputs": [],
   "source": [
    "'''\n",
    "The i+1 mesh point that used to calculate the object boundary mesh point (i,j) is the nearest one to the object's next boundary\n",
    "'''\n",
    "def SOR_solver_insul_obj(i, j, n_i, c_k, c_k_1, length, delta_x, w=1.8):\n",
    "\n",
    "    l = length\n",
    "    a1 = (1-l)/2\n",
    "    b1 = (1+l)/2\n",
    "\n",
    "    i_bl = i+1\n",
    "    i_bu = i-1\n",
    "    j_bl = j+1\n",
    "    j_bu = j-1\n",
    "\n",
    "    a1_x = a1/delta_x\n",
    "    b1_x = b1/delta_x\n",
    "\n",
    "    if j > a1_x and j < b1_x:\n",
    "        if i < a1_x and i > a1_x-1:\n",
    "            i_bl = int(np.floor(b1_x))+1\n",
    "        elif i > b1_x and i < b1_x+1:\n",
    "            i_bu = int(np.floor(a1_x))\n",
    "\n",
    "    if i > a1_x and i < b1_x:\n",
    "        if j < a1_x and j > a1_x-1:\n",
    "            j_bl = int(np.floor(b1_x))+1\n",
    "        elif j > b1_x and j < b1_x+1:\n",
    "            j_bu = int(np.floor(a1_x))\n",
    "    \n",
    "    # boundary conditions\n",
    "    if i == 0:\n",
    "        c_new = w/4 * (c_k[i+1, j] + c_k_1[-1, j] + c_k[i, j+1] + c_k_1[i, j-1]) + (1-w) * c_k[i, j]\n",
    "    elif i == n_i-1:\n",
    "        c_new = w/4 * (c_k[0, j] + c_k_1[i-1, j] + c_k[i, j+1] + c_k_1[i, j-1]) + (1-w) * c_k[i, j]\n",
    "        \n",
    "    else:\n",
    "        c_new = w/4 * (c_k[i_bl, j] + c_k_1[i_bu, j] + c_k[i, j_bl] + c_k_1[i, j_bu]) + (1-w) * c_k[i, j]\n",
    "\n",
    "    return c_new"
   ]
  },
  {
   "cell_type": "code",
   "execution_count": 5,
   "metadata": {},
   "outputs": [],
   "source": [
    "def implement_sor_insul(max_ite=5000, w=1.8, e=1e-5, N=50, num=0, length=0):\n",
    "    ##########################################################\n",
    "    # Initialize valuse\n",
    "    max_ite = max_ite\n",
    "    e = e\n",
    "    delta_x = 1 / N\n",
    "    # check the number of sinks\n",
    "    num = num\n",
    "    if num == 3 or num > 4:\n",
    "        print('num can only take value 1, 2 or 4!')\n",
    "        return None\n",
    "    ###########################################################\n",
    "    l = length\n",
    "\n",
    "    # Create tracker matrix\n",
    "    c_store_s = np.zeros((max_ite+1, N, N))\n",
    "    c_store_s[:, :, -1].fill(1)\n",
    "\n",
    "    # Store the convergence measure delta\n",
    "    delta_s = np.zeros(max_ite+1)\n",
    "\n",
    "    # create matrix to store function value at the previous step\n",
    "    c_keep_s = np.zeros((N, N))\n",
    "    c_keep_s[:, -1].fill(1)\n",
    "\n",
    "    # Create matrix to store function value at the current step\n",
    "    c_s = np.zeros((N, N))\n",
    "    c_s[:, -1].fill(1)\n",
    "    ##################################################################################\n",
    "    # apply the sor method (pity that I don't know how to enable parellel computing :( )\n",
    "    \n",
    "  \n",
    "    for k in range(max_ite):\n",
    "        for j in range(N-2):\n",
    "            j += 1\n",
    "            for i in range(N):\n",
    "                ####################################################################          \n",
    "                # Check if the point (i,j) lies within the sink!\n",
    "                passcheck = object_detector(i=i*delta_x, j=j*delta_x, num=num, length=length)\n",
    "                if passcheck == 0:\n",
    "                    c_s[i, j] = SOR_solver_insul_obj(i, j, n_i=N, c_k=c_keep_s, c_k_1=c_s, w=w, length=l, delta_x=delta_x)\n",
    "                else:\n",
    "                    c_s[i, j] = 0\n",
    "                ####################################################################\n",
    "    \n",
    "        # Update the tracker\n",
    "        c_store_s[k+1, :, :] = c_s\n",
    "        \n",
    "        # apply the threshold\n",
    "        diff_s = c_s - c_keep_s\n",
    "        delta_s[k] = abs(max(diff_s.max(), diff_s.min(), key=abs))\n",
    "\n",
    "        if delta_s[k] < e:\n",
    "            break\n",
    "\n",
    "        # update the store matrix\n",
    "        c_keep_s = np.copy(c_s)\n",
    "    #####################################################################################\n",
    "\n",
    "    return c_store_s, delta_s, k\n"
   ]
  },
  {
   "cell_type": "code",
   "execution_count": 28,
   "metadata": {},
   "outputs": [
    {
     "name": "stdout",
     "output_type": "stream",
     "text": [
      "382\n"
     ]
    }
   ],
   "source": [
    "c_store_s_s, delta_s_s, k_s = implement_sor_insul(num=1, length=0.5)\n",
    "print(k_s)"
   ]
  },
  {
   "cell_type": "code",
   "execution_count": 44,
   "metadata": {},
   "outputs": [
    {
     "data": {
      "image/png": "[encoded data removed]",
      "text/plain": [
       "<Figure size 576x432 with 1 Axes>"
      ]
     },
     "metadata": {
      "needs_background": "light"
     },
     "output_type": "display_data"
    }
   ],
   "source": [
    "y_plot = np.linspace(0, 1, 50)\n",
    "plt.plot(y_plot, c_store_s_s[383, 38, :], label='ite=converge')\n",
    "plt.show()"
   ]
  },
  {
   "cell_type": "code",
   "execution_count": 32,
   "metadata": {},
   "outputs": [
    {
     "data": {
      "image/png": "[encoded data removed]",
      "text/plain": [
       "<Figure size 576x432 with 1 Axes>"
      ]
     },
     "metadata": {
      "needs_background": "light"
     },
     "output_type": "display_data"
    }
   ],
   "source": [
    "axt = plt.axes(projection='3d')\n",
    "\n",
    "plt.rcParams['figure.figsize'] = (8, 6)\n",
    "\n",
    "x = np.linspace(0, 1, 50)\n",
    "y = np.linspace(0, 1, 50)\n",
    "X, Y = np.meshgrid(x, y)\n",
    "\n",
    "axt.contour3D(X, Y, c_store_s_s[383, :, :], 500)\n",
    "\n",
    "axt.set_xlabel('y')\n",
    "axt.set_ylabel('x')\n",
    "\n",
    "axt.view_init(0, -90)"
   ]
  },
  {
   "cell_type": "markdown",
   "metadata": {},
   "source": [
    "### Define optimizor"
   ]
  },
  {
   "cell_type": "code",
   "execution_count": 8,
   "metadata": {},
   "outputs": [],
   "source": [
    "def optimize_sor_insul(lower_bound=1.7, upper_bound=2, N=50, max_ite=5000, e=1e-5, num=0, length=0):\n",
    "    a = lower_bound\n",
    "    b = upper_bound\n",
    "    check = 0\n",
    "    \n",
    "    for k in range(max_ite):\n",
    "\n",
    "        # Calculate the midpoint\n",
    "        c = (a + b) / 2\n",
    "\n",
    "        convergency_l = implement_sor_insul(max_ite=max_ite, w=a, e=e, N=N, num=num, length=length)\n",
    "\n",
    "        # We dont really need the upper bound function value\n",
    "        # Since we have prior knowledge of the interval we are studying\n",
    "\n",
    "        # convergency_u = implement_sor(max_ite=max_ite, w=b, e=e, N=N)\n",
    "        convergency_m = implement_sor_insul(max_ite=max_ite, w=c, e=e, N=N, num=num, length=length)\n",
    "\n",
    "        k_l = convergency_l[2]\n",
    "        # k_u = convergency_u[2]\n",
    "        k_m = convergency_m[2]\n",
    "\n",
    "        # Apply the secant method\n",
    "        if k_m < k_l:\n",
    "            a = c\n",
    "        if k_m > k_l:\n",
    "            b = c\n",
    "\n",
    "        # Check if midpoint and lower bound by chance lie symmetriclly\n",
    "        if k_m == k_l:\n",
    "            check += 1\n",
    "        if check == 2:\n",
    "            print(convergency_m[2], end=',')\n",
    "            break\n",
    "\n",
    "        if k == max_ite-1:\n",
    "            print('Failed to find the optimal solution in the max iteration steps!')\n",
    "    \n",
    "    return convergency_m[2], c"
   ]
  },
  {
   "cell_type": "code",
   "execution_count": 9,
   "metadata": {},
   "outputs": [],
   "source": [
    "def optimize_experiment_insul(lower_bound=10, upper_bound=100, n_interval=10, num=0, length=0):\n",
    "    N_value = np.linspace(lower_bound, upper_bound, n_interval)\n",
    "    optimal_step = np.zeros(len(N_value))\n",
    "    optimal_w = np.zeros(len(N_value))\n",
    "\n",
    "    for i, n in enumerate(N_value):\n",
    "        optimal = optimize_sor_insul(N=int(n), num=num, length=length)\n",
    "        optimal_w[i] = optimal[1]\n",
    "        optimal_step[i] = optimal[0]\n",
    "    \n",
    "    return N_value, optimal_w, optimal_step"
   ]
  },
  {
   "cell_type": "code",
   "execution_count": 30,
   "metadata": {},
   "outputs": [
    {
     "name": "stdout",
     "output_type": "stream",
     "text": [
      "0,64,115,175,248,190,472,412,465,519,"
     ]
    }
   ],
   "source": [
    "l = 0.25\n",
    "if __name__ == '__main__':\n",
    "    N_o, opt_w_o, opt_step_o = optimize_experiment_insul(lower_bound=1, upper_bound=100, n_interval=10, num=1, length=l)"
   ]
  },
  {
   "cell_type": "code",
   "execution_count": null,
   "metadata": {},
   "outputs": [],
   "source": []
  }
 ],
 "metadata": {
  "interpreter": {
   "hash": "726782a55eb1f8c968fa3c0a110980b753af8602a37f7fa7fa52afcc5094d461"
  },
  "kernelspec": {
   "display_name": "Python 3.9.7 ('base')",
   "language": "python",
   "name": "python3"
  },
  "language_info": {
   "codemirror_mode": {
    "name": "ipython",
    "version": 3
   },
   "file_extension": ".py",
   "mimetype": "text/x-python",
   "name": "python",
   "nbconvert_exporter": "python",
   "pygments_lexer": "ipython3",
   "version": "3.9.7"
  },
  "orig_nbformat": 4
 },
 "nbformat": 4,
 "nbformat_minor": 2
}
