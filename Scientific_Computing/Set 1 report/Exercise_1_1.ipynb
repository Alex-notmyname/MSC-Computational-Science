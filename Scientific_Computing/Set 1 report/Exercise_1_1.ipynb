{
 "cells": [
  {
   "cell_type": "code",
   "execution_count": null,
   "metadata": {},
   "outputs": [],
   "source": [
    "import numpy as np\n",
    "import matplotlib.pyplot as plt"
   ]
  },
  {
   "cell_type": "markdown",
   "metadata": {},
   "source": [
    "### Time-stepping solver"
   ]
  },
  {
   "cell_type": "code",
   "execution_count": 1,
   "metadata": {},
   "outputs": [],
   "source": [
    "\"\"\"\n",
    "Numerical solver for time-stepping method, default x range: [0, 1], default t range: [0, 100]\n",
    "\"\"\"\n",
    "def time_stepping_solver(ic, ic_derivative, delta_t, delta_x):\n",
    "    mesh_x = np.linspace(0, 1, delta_x)\n",
    "    mesh_t = np.linspace(0, 100, delta_t)\n",
    "    n_i = np.len(mesh_x)\n",
    "    n_k = np.len(mesh_t)\n",
    "\n",
    "    u = np.zeros((n_i, n_k))\n",
    "\n",
    "    # solve the initial boundary cases\n",
    "    for i in range(n_i):\n",
    "        u[i,0] = ic(mesh_x[i])\n",
    "        u[i,1] = u[i,0] + delta_t * ic_derivative(mesh_t[i])\n",
    "\n",
    "    # solve the PDE at the whole interval\n",
    "    # Note here matrx form of algebraic is used, not double for loop :)\n",
    "\n",
    "\n"
   ]
  },
  {
   "cell_type": "markdown",
   "metadata": {},
   "source": [
    "### Initial condition 1.\n",
    "$$\n",
    "\\Psi (x, t=0) = sin(2\\pi x)\n",
    "$$"
   ]
  }
 ],
 "metadata": {
  "interpreter": {
   "hash": "5fdd5d292a9b6f34e0661329dc70a90de1dc19326df9dbf72be382a0607df2b1"
  },
  "kernelspec": {
   "display_name": "Python 3.9.6 64-bit ('myproject': conda)",
   "language": "python",
   "name": "python3"
  },
  "language_info": {
   "codemirror_mode": {
    "name": "ipython",
    "version": 3
   },
   "file_extension": ".py",
   "mimetype": "text/x-python",
   "name": "python",
   "nbconvert_exporter": "python",
   "pygments_lexer": "ipython3",
   "version": "3.9.6"
  },
  "orig_nbformat": 4
 },
 "nbformat": 4,
 "nbformat_minor": 2
}
