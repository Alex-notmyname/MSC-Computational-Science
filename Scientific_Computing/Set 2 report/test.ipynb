{
 "cells": [
  {
   "cell_type": "code",
   "execution_count": 104,
   "metadata": {},
   "outputs": [
    {
     "name": "stdout",
     "output_type": "stream",
     "text": [
      "[array([1, 2, 3])]\n",
      "[array([1, 2, 3]), array([3, 2, 1])]\n"
     ]
    },
    {
     "data": {
      "text/plain": [
       "array([False,  True, False])"
      ]
     },
     "execution_count": 104,
     "metadata": {},
     "output_type": "execute_result"
    }
   ],
   "source": [
    "a = np.array([1, 2, 3])\n",
    "b = np.array([3, 2, 1])\n",
    "\n",
    "c = []\n",
    "c.append(a)\n",
    "print(c)\n",
    "c.append(b)\n",
    "print(c)\n",
    "\n",
    "c[0] == c[1]"
   ]
  },
  {
   "cell_type": "code",
   "execution_count": 4,
   "metadata": {},
   "outputs": [
    {
     "name": "stderr",
     "output_type": "stream",
     "text": [
      "C:\\Users\\wangk\\anaconda3\\lib\\site-packages\\numba\\cuda\\decorators.py:110: NumbaDeprecationWarning: \u001b[1mEager compilation of device functions is deprecated (this occurs when a signature is provided)\u001b[0m\n",
      "  warn(NumbaDeprecationWarning(msg))\n"
     ]
    }
   ],
   "source": [
    "import numpy as np\n",
    "from numba import vectorize\n",
    "\n",
    "@vectorize(['float32(float32, float32)'], target='cuda')\n",
    "def Add(a, b):\n",
    "  return a + b\n",
    "\n",
    "# Initialize arrays\n",
    "N = int(1e8)\n",
    "A = np.ones(N, dtype=np.float32)\n",
    "B = np.ones(A.shape, dtype=A.dtype)\n",
    "C = np.empty_like(A, dtype=A.dtype)\n",
    "\n",
    "# Add arrays on GPU\n",
    "C = Add(A, B)"
   ]
  },
  {
   "cell_type": "markdown",
   "metadata": {},
   "source": [
    "# Numba parallelization test!"
   ]
  },
  {
   "cell_type": "code",
   "execution_count": 17,
   "metadata": {},
   "outputs": [
    {
     "name": "stdout",
     "output_type": "stream",
     "text": [
      "Populating the interactive namespace from numpy and matplotlib\n"
     ]
    },
    {
     "name": "stderr",
     "output_type": "stream",
     "text": [
      "C:\\Users\\wangk\\anaconda3\\lib\\site-packages\\IPython\\core\\magics\\pylab.py:159: UserWarning: pylab import has clobbered these variables: ['vectorize']\n",
      "`%matplotlib` prevents importing * from pylab and numpy\n",
      "  warn(\"pylab import has clobbered these variables: %s\"  % clobbered +\n"
     ]
    }
   ],
   "source": [
    "%pylab inline"
   ]
  },
  {
   "cell_type": "code",
   "execution_count": 5,
   "metadata": {},
   "outputs": [],
   "source": [
    "import numpy as np\n",
    "import matplotlib\n",
    "import matplotlib.pyplot as plt\n",
    "import multiprocessing as mp\n",
    "from matplotlib import animation"
   ]
  },
  {
   "cell_type": "markdown",
   "metadata": {},
   "source": [
    "### Successive Over Relaxation"
   ]
  },
  {
   "cell_type": "code",
   "execution_count": 7,
   "metadata": {},
   "outputs": [],
   "source": [
    "from numba import jit, njit, vectorize\n",
    "\n",
    "def SOR_solver(i, j, n_i, c_k, c_k_1, w=1.8):\n",
    "\n",
    "    # boundary conditions\n",
    "    if i == 0:\n",
    "        c_new = w/4 * (c_k[i+1, j] + c_k_1[-1, j] + c_k[i, j+1] + c_k_1[i, j-1]) + (1-w) * c_k[i, j]\n",
    "    elif i == n_i-1:\n",
    "        c_new = w/4 * (c_k[0, j] + c_k_1[i-1, j] + c_k[i, j+1] + c_k_1[i, j-1]) + (1-w) * c_k[i, j]\n",
    "        \n",
    "    else:\n",
    "        c_new = w/4 * (c_k[i+1, j] + c_k_1[i-1, j] + c_k[i, j+1] + c_k_1[i, j-1]) + (1-w) * c_k[i, j]\n",
    "\n",
    "    return c_new"
   ]
  },
  {
   "cell_type": "markdown",
   "metadata": {},
   "source": [
    "## Implement"
   ]
  },
  {
   "cell_type": "markdown",
   "metadata": {},
   "source": [
    "### Successive Over Relaxation (SOR)"
   ]
  },
  {
   "cell_type": "markdown",
   "metadata": {},
   "source": [
    "#### Object detector"
   ]
  },
  {
   "cell_type": "code",
   "execution_count": null,
   "metadata": {},
   "outputs": [],
   "source": [
    "def object_detector(i, j, num=0, length=0, lower_bound=0, upper_bound=1):\n",
    "    num = num \n",
    "    l = length\n",
    "    passcheck = 0\n",
    "\n",
    "    a1 = (1-l)/2\n",
    "    b1 = (1+l)/2\n",
    "\n",
    "    a2 = (1-2*l)/3\n",
    "    a3 = (2-l)/3\n",
    "    b2 = (1+l)/3\n",
    "    b3 = (2+2*l)/3\n",
    "\n",
    "    if num == 1:\n",
    "        if ((j > a1) and (j < b1)) and ((i > a1) and (i < b1)):\n",
    "            passcheck = 1\n",
    "\n",
    "    if num == 2:\n",
    "        if ((j > a1) and (j < b1)) and \\\n",
    "            (((i > a2) and (i < b2)) or ((i > a3) and (i < b3))):\n",
    "            passcheck = 1\n",
    "\n",
    "    if num == 4:\n",
    "        if (((j > a2) and (j < b2)) or ((j > a3) and (j < b3))) and \\\n",
    "            (((i > a2) and (i < b2)) or ((i > a3) and (i < b3))):\n",
    "            passcheck = 1\n",
    "    \n",
    "    return passcheck\n"
   ]
  },
  {
   "cell_type": "code",
   "execution_count": null,
   "metadata": {},
   "outputs": [],
   "source": [
    "def implement_sor(max_ite=5000, w=1.8, e=1e-5, N=50, num=0, length=0):\n",
    "    ##########################################################\n",
    "    # Initialize valuse\n",
    "    max_ite = max_ite\n",
    "    e = e\n",
    "    delta_x = 1 / N\n",
    "    # check the number of sinks\n",
    "    num = num\n",
    "    if num == 3 or num > 4:\n",
    "        print('num can only take value 1, 2 or 4!')\n",
    "        return None\n",
    "    ###########################################################\n",
    "    # Create tracker matrix\n",
    "    c_store_s = np.zeros((max_ite+1, N, N))\n",
    "    c_store_s[:, :, -1].fill(1)\n",
    "\n",
    "    # Store the convergence measure delta\n",
    "    delta_s = np.zeros(max_ite+1)\n",
    "\n",
    "    # create matrix to store function value at the last step\n",
    "    c_keep_s = np.zeros((N, N))\n",
    "    c_keep_s[:, -1].fill(1)\n",
    "\n",
    "    # Create matrix to store function value at the current step\n",
    "    c_s = np.zeros((N, N))\n",
    "    c_s[:, -1].fill(1)\n",
    "    ##################################################################################\n",
    "    # apply the sor method (pity that I don't know how to enable parellel computing :( )\n",
    "    for k in range(max_ite):\n",
    "        for j in range(N-2):\n",
    "            j += 1\n",
    "            for i in range(N):\n",
    "                ####################################################################          \n",
    "                # Check if the point (i,j) lies within the sink!\n",
    "                passcheck = object_detector(i=i*delta_x, j=j*delta_x, num=num, length=length)\n",
    "                if passcheck == 0:\n",
    "                    c_s[i, j] = SOR_solver(i, j, n_i=N, c_k=c_keep_s, c_k_1=c_s, w=w)\n",
    "                else:\n",
    "                    c_s[i, j] = 0\n",
    "                ####################################################################\n",
    "        \n",
    "        # Update the tracker\n",
    "        c_store_s[k+1, :, :] = c_s\n",
    "        \n",
    "        # apply the threshold\n",
    "        diff_s = c_s - c_keep_s\n",
    "        delta_s[k] = abs(max(diff_s.max(), diff_s.min(), key=abs))\n",
    "        \n",
    "        if delta_s[k] < e:\n",
    "            break\n",
    "\n",
    "        # update the store matrix\n",
    "        c_keep_s = np.copy(c_s)\n",
    "    #####################################################################################\n",
    "\n",
    "    return c_store_s, delta_s, k\n"
   ]
  },
  {
   "cell_type": "code",
   "execution_count": null,
   "metadata": {},
   "outputs": [
    {
     "name": "stdout",
     "output_type": "stream",
     "text": [
      "424\n"
     ]
    }
   ],
   "source": [
    "if __name__ == '__main__':\n",
    "    c_store_s, delta_s, k_s = implement_sor(w=1.8)\n",
    "print(k_s)"
   ]
  },
  {
   "cell_type": "markdown",
   "metadata": {},
   "source": [
    "## Numba"
   ]
  },
  {
   "cell_type": "code",
   "execution_count": 8,
   "metadata": {},
   "outputs": [],
   "source": [
    "from numba import jit, njit, vectorize, prange\n",
    "import time\n",
    "\n",
    "@vectorize\n",
    "def sor_rb_solver(c_i_j, c_i_0, c_i_1, c_j_0, c_j_1, w=1.8):\n",
    "\n",
    "    c_new = w/4 * (c_i_0 + c_i_1 + c_j_0 + c_j_1) + (1-w) * c_i_j\n",
    "\n",
    "    return c_new"
   ]
  },
  {
   "cell_type": "code",
   "execution_count": 9,
   "metadata": {},
   "outputs": [],
   "source": [
    "# construct the red_black ordering grid\n",
    "# Note that red block: odd & odd and even & even; black block: even & odd and odd & even\n",
    "\n",
    "def red_black_grid(N):\n",
    "    x = np.linspace(0, N-1, N, dtype=int)\n",
    "    # Note that the index of y starts from j=1\n",
    "    y = np.linspace(1, N-2, N-2, dtype=int)\n",
    "\n",
    "    red_block = set()\n",
    "    black_block = set()\n",
    "    for p in range(len(x)):\n",
    "        i = x[p]\n",
    "        for j in y:\n",
    "            if ((i+j) % 2 == 1):\n",
    "                red_block.update({(i, j)})\n",
    "            else:\n",
    "                black_block.update({(i, j)}) \n",
    "\n",
    "    red = list(red_block)\n",
    "    black = list(black_block)\n",
    "\n",
    "    # get the indices for red and black blocks\n",
    "    red_indices = np.array(([i[0] for i in red], [i[1] for i in red]))\n",
    "    black_indices = np.array(([i[0] for i in black], [i[1] for i in black]))\n",
    "\n",
    "    return red_indices, black_indices"
   ]
  },
  {
   "cell_type": "code",
   "execution_count": 10,
   "metadata": {},
   "outputs": [],
   "source": [
    "def lattice_value_finder(c_n, b_ind, N):\n",
    "\n",
    "    b_i0, b_i1, b_j0, b_j1 = np.array((b_ind[0]-1, b_ind[1])), np.array((b_ind[0]+1, b_ind[1])), \\\n",
    "        np.array((b_ind[0], b_ind[1]-1)), np.array((b_ind[0], b_ind[1]+1))\n",
    "    \n",
    "    '''\n",
    "    Watch out here, might be wrong!\n",
    "    '''\n",
    "    # Adjust the block index for boundary conditions (periodic x)\n",
    "    b_i0[b_i0 < 0] = N - 1\n",
    "    b_i1[b_i1 >= N] = 0\n",
    "\n",
    "    b_ind, b_i0, b_i1, b_j0, b_j1 = tuple(b_ind), tuple(b_i0), tuple(b_i1), tuple(b_j0), tuple(b_j1), \n",
    "\n",
    "    c, c_i0, c_i1, c_j0, c_j1 = c_n[b_ind], c_n[b_i0], c_n[b_i1], c_n[b_j0], c_n[b_j1]\n",
    "\n",
    "    return c, c_i0, c_i1, c_j0, c_j1"
   ]
  },
  {
   "cell_type": "code",
   "execution_count": 11,
   "metadata": {},
   "outputs": [],
   "source": [
    "def get_c_next(c_n, red_indices, black_indices, N=100, w=1.8):\n",
    "\n",
    "    c_n = np.copy(c_n)\n",
    "\n",
    "    ######################################################################################################\n",
    "    start_red_value_finder = time.time()\n",
    "\n",
    "    # get the c value for red blocks\n",
    "    c_red = lattice_value_finder(c_n=c_n, b_ind=red_indices, N=N)\n",
    "    c_red_ij, c_red_i0, c_red_i1, c_red_j0, c_redj1 = c_red[0], c_red[1], c_red[2], c_red[3], c_red[4]\n",
    "\n",
    "    end_red_value_finder = time.time()\n",
    "    value_finder_time = end_red_value_finder - start_red_value_finder\n",
    "    ######################################################################################################\n",
    "    ###################################################################################\n",
    "    start_calculation = time.time()\n",
    "\n",
    "    # update all the c_n+1 value for red blocks\n",
    "    c_n_red = sor_rb_solver(c_red_ij, c_red_i0, c_red_i1, c_red_j0, c_redj1, 1.93)\n",
    "    c_n[tuple(red_indices)] = c_n_red\n",
    "\n",
    "    end_calculation = time.time()\n",
    "    calculation_time = end_calculation - start_calculation\n",
    "    ####################################################################################\n",
    "    ########################################################################################################################\n",
    "    start_b_value_finder = time.time()\n",
    "    # get the c value for black blocks\n",
    "    c_black = lattice_value_finder(c_n=c_n, b_ind=black_indices, N=N)\n",
    "\n",
    "    c_black_ij, c_black_i0, c_black_i1, c_black_j0, c_black_j1 = c_black[0], c_black[1], c_black[2], c_black[3], c_black[4]\n",
    "    end_b_value_finder = time.time()\n",
    "    value_finder_time_b = end_b_value_finder - start_b_value_finder\n",
    "    ########################################################################################################################\n",
    "    ##########################################################################################\n",
    "    start_black_calculation = time.time()\n",
    "\n",
    "    # update all the c_n+1 value for black blocks\n",
    "    c_n_black = sor_rb_solver(c_black_ij, c_black_i0, c_black_i1, c_black_j0, c_black_j1, w)\n",
    "    c_n[tuple(black_indices)] = c_n_black\n",
    "    \n",
    "    end_black_calculation = time.time()\n",
    "    calculation_time_black = end_black_calculation - start_black_calculation\n",
    "    ###########################################################################################\n",
    "    \n",
    "    # return the c_next matrix\n",
    "    return c_n, value_finder_time, calculation_time, calculation_time_black, value_finder_time_b"
   ]
  },
  {
   "cell_type": "code",
   "execution_count": 92,
   "metadata": {},
   "outputs": [
    {
     "name": "stdout",
     "output_type": "stream",
     "text": [
      "0,200,400,600,800,Wall time: 488 ms\n"
     ]
    }
   ],
   "source": [
    "%%time\n",
    "if __name__ == '__main__':\n",
    "    # Define parameters\n",
    "    N = 100\n",
    "    w = 1.8\n",
    "    e = 1e-5\n",
    "\n",
    "    # start from rest\n",
    "    c_s = np.zeros((N, N))\n",
    "    c_s[:, -1].fill(1)\n",
    "\n",
    "    time_grid_generate = 0\n",
    "    value_finder_time = 0\n",
    "    v_finder_b = 0\n",
    "    calculation_time = 0\n",
    "    calcu_t_b = 0\n",
    "    check_time = 0\n",
    "\n",
    "    # Generate red_black_grid\n",
    "    start_grid = time.time()\n",
    "    red, black = red_black_grid(N)\n",
    "    end_grid = time.time()\n",
    "    \n",
    "    time_grid_generate += (end_grid - start_grid)\n",
    "\n",
    "\n",
    "    for k in range(3000):\n",
    "        \n",
    "        c_s_next, value_finder_t, calculation_t, calculation_t_b, value_b_finder = \\\n",
    "            get_c_next(c_n=c_s, red_indices=red, black_indices=black, N=N, w=w)\n",
    "\n",
    "        value_finder_time += value_finder_time\n",
    "        calculation_time += calculation_t\n",
    "        calcu_t_b += calculation_t_b\n",
    "        v_finder_b += value_b_finder\n",
    "\n",
    "        check_t_s = time.time()\n",
    "\n",
    "        # apply the threshold\n",
    "        diff_s = c_s_next - c_s\n",
    "        delta_s = abs(max(diff_s.max(), diff_s.min(), key=abs))\n",
    "        \n",
    "        if delta_s < e:\n",
    "            break\n",
    "\n",
    "        # update the store matrix\n",
    "        c_s = np.copy(c_s_next)\n",
    "        \n",
    "        check_t_e = time.time()\n",
    "        check_time += check_t_e - check_t_s\n",
    "        \n",
    "        if k % 200 == 0:\n",
    "            print(k, end=',')"
   ]
  },
  {
   "cell_type": "code",
   "execution_count": 93,
   "metadata": {},
   "outputs": [
    {
     "name": "stdout",
     "output_type": "stream",
     "text": [
      "0.009002447128295898 0 0.049005985260009766 0.0490117073059082 0.02100348472595215 0.17804503440856934\n"
     ]
    }
   ],
   "source": [
    "print( time_grid_generate, value_finder_time, calculation_time, calcu_t_b, check_time, v_finder_b)"
   ]
  },
  {
   "cell_type": "code",
   "execution_count": 37,
   "metadata": {},
   "outputs": [
    {
     "name": "stdout",
     "output_type": "stream",
     "text": [
      "[1 5]\n"
     ]
    }
   ],
   "source": [
    "a = np.array(([1, 2, 3], [1, 5, 3]))\n",
    "b = ([0, 1], [0, 1])\n",
    "c = a[b]\n",
    "print(c)"
   ]
  },
  {
   "cell_type": "code",
   "execution_count": 72,
   "metadata": {},
   "outputs": [
    {
     "name": "stdout",
     "output_type": "stream",
     "text": [
      "0,200,400,600,800,Wall time: 488 ms\n"
     ]
    }
   ],
   "source": [
    "%%time\n",
    "if __name__ == '__main__':\n",
    "    # Define parameters\n",
    "    N = 100\n",
    "    w = 1.8\n",
    "    e = 1e-5\n",
    "\n",
    "    # start from rest\n",
    "    c_s = np.zeros((N, N))\n",
    "    c_s[:, -1].fill(1)\n",
    "\n",
    "    time_grid_generate = 0\n",
    "    value_finder_time = 0\n",
    "    calculation_time = 0\n",
    "\n",
    "    # Generate red_black_grid\n",
    "    start_grid = time.time()\n",
    "    red, black = red_black_grid(N)\n",
    "    end_grid = time.time()\n",
    "    \n",
    "    time_grid_generate += (end_grid - start_grid)\n",
    "\n",
    "\n",
    "    for k in range(2000):\n",
    "        \n",
    "        c_s_next, value_finder_t, calculation_t = get_c_next(c_n=c_s, red_indices=red, black_indices=black, N=N, w=w)\n",
    "\n",
    "        value_finder_time += value_finder_time\n",
    "        calculation_time += calculation_t\n",
    "\n",
    "        # apply the threshold\n",
    "        diff_s = c_s_next - c_s\n",
    "        delta_s = abs(max(diff_s.max(), diff_s.min(), key=abs))\n",
    "        \n",
    "        if delta_s < e:\n",
    "            break\n",
    "\n",
    "        # update the store matrix\n",
    "        c_s = np.copy(c_s_next)\n",
    "        \n",
    "        if k % 200 == 0:\n",
    "            print(k, end=',')"
   ]
  },
  {
   "cell_type": "code",
   "execution_count": 17,
   "metadata": {},
   "outputs": [
    {
     "name": "stdout",
     "output_type": "stream",
     "text": [
      "0.015003204345703125 0 0.18203353881835938\n"
     ]
    }
   ],
   "source": [
    "print( time_grid_generate, value_finder_time, calculation_time)"
   ]
  },
  {
   "cell_type": "code",
   "execution_count": 476,
   "metadata": {},
   "outputs": [
    {
     "name": "stderr",
     "output_type": "stream",
     "text": [
      "Locator attempting to generate 1001 ticks ([0.0, ..., 1.0]), which exceeds Locator.MAXTICKS (1000).\n"
     ]
    },
    {
     "data": {
      "text/plain": [
       "Text(0.5, 0, 'x')"
      ]
     },
     "execution_count": 476,
     "metadata": {},
     "output_type": "execute_result"
    },
    {
     "data": {
      "image/png": "[encoded data removed]",
      "text/plain": [
       "<Figure size 432x288 with 1 Axes>"
      ]
     },
     "metadata": {
      "needs_background": "light"
     },
     "output_type": "display_data"
    }
   ],
   "source": [
    "ax3d = plt.axes(projection='3d')\n",
    "\n",
    "x = np.linspace(0, 1, 100)\n",
    "y = np.linspace(0, 1, 100)\n",
    "X, Y = np.meshgrid(x, y)\n",
    "\n",
    "ax3d.contour3D(X, Y, c_s_next, 999)\n",
    "ax3d.view_init(30, -100)\n",
    "ax3d.set_xlabel('y')\n",
    "ax3d.set_ylabel('x')"
   ]
  },
  {
   "cell_type": "markdown",
   "metadata": {},
   "source": [
    "## Try parallel using numba"
   ]
  },
  {
   "cell_type": "code",
   "execution_count": 1,
   "metadata": {},
   "outputs": [],
   "source": [
    "from numba import  vectorize, cuda, types\n",
    "import time\n",
    "\n",
    "@cuda.jit\n",
    "def sor_rb_solver_gpu(c_i_j, c_i_0, c_i_1, c_j_0, c_j_1, w, c_out):\n",
    "\n",
    "    for i in range(len(c_i_0)):\n",
    "        c_out[i] = w/4 * (c_i_0[i] + c_i_1[i] + c_j_0[i] + c_j_1[i]) + (1-w) * c_i_j[i]"
   ]
  },
  {
   "cell_type": "code",
   "execution_count": 14,
   "metadata": {},
   "outputs": [],
   "source": [
    "def get_c_next_gpu(c_n, red_indices, black_indices, b_size, t_size, N=100, w=1.8):\n",
    "\n",
    "    array_len = int(N * (N-2) / 2)\n",
    "\n",
    "    c_n = np.copy(c_n)\n",
    "\n",
    "    ##################################################################################################################\n",
    "    start_red_value_finder = time.time()\n",
    "    # get the c value for red blocks\n",
    "    c_red = lattice_value_finder(c_n=c_n, b_ind=red_indices, N=N)\n",
    "    c_red_ij, c_red_i0, c_red_i1, c_red_j0, c_red_j1 = c_red[0], c_red[1], c_red[2], c_red[3], c_red[4]\n",
    "\n",
    "    c_red_ij = cuda.to_device(c_red_ij)\n",
    "    c_red_i0 = cuda.to_device(c_red_i0)\n",
    "    c_red_i1 = cuda.to_device(c_red_i1)\n",
    "    c_red_j0 = cuda.to_device(c_red_j0)\n",
    "    c_red_j1 = cuda.to_device(c_red_j1)\n",
    "\n",
    "\n",
    "    # red_out = cuda.device_array(shape=(array_len), dtype=np.float32)\n",
    "\n",
    "    c_n_red = np.zeros(array_len, dtype=np.float32)\n",
    "\n",
    "    end_red_value_finder = time.time()\n",
    "    value_finder_time = end_red_value_finder - start_red_value_finder\n",
    "    ##################################################################################################################\n",
    "\n",
    "    start_calculation = time.time()\n",
    "\n",
    "    # update all the c_n+1 value for red blocks\n",
    "    sor_rb_solver_gpu[b_size, t_size](c_red_ij, c_red_i0, c_red_i1, c_red_j0, c_red_j1, w, c_n_red)\n",
    "\n",
    "    # h_red = red_out.copy_to_host()\n",
    "\n",
    "    c_n[tuple(red_indices)] = c_n_red\n",
    "\n",
    "    end_calculation = time.time()\n",
    "\n",
    "    calculation_time = end_calculation - start_calculation\n",
    "    ####################################################################################################################\n",
    "\n",
    "    # get the c value for black blocks\n",
    "    c_black = lattice_value_finder(c_n=c_n, b_ind=black_indices, N=N)\n",
    "    c_black_ij, c_black_i0, c_black_i1, c_black_j0, c_black_j1 = c_black[0], c_black[1], c_black[2], c_black[3], c_black[4]\n",
    "\n",
    "\n",
    "    c_black_ij = cuda.to_device(c_black_ij)\n",
    "    c_black_i0 = cuda.to_device(c_black_i0)\n",
    "    c_black_i1 = cuda.to_device(c_black_i1)\n",
    "    c_black_j0 = cuda.to_device(c_black_j0)\n",
    "    c_black_j1 = cuda.to_device(c_black_j1)    \n",
    "\n",
    "\n",
    "    # black_out = cuda.device_array(shape=(array_len), dtype=np.float32)\n",
    "\n",
    "    c_n_black = np.zeros(array_len, dtype=np.float32)\n",
    "\n",
    "    start_time_b = time.time()\n",
    "    \n",
    "    # update all the c_n+1 value for black blocks\n",
    "    sor_rb_solver_gpu[b_size, t_size](c_black_ij, c_black_i0, c_black_i1, c_black_j0, c_black_j1, w, c_n_black)\n",
    "\n",
    "    # h_black = black_out.copy_to_host()\n",
    "        \n",
    "    c_n[tuple(black_indices)] = c_n_black\n",
    "\n",
    "    calculation_time_b = time.time() - start_time_b\n",
    "    \n",
    "    # return the c_next matrix\n",
    "    return c_n, value_finder_time, calculation_time, calculation_time_b"
   ]
  },
  {
   "cell_type": "code",
   "execution_count": 15,
   "metadata": {},
   "outputs": [
    {
     "name": "stderr",
     "output_type": "stream",
     "text": [
      "C:\\Users\\wangk\\anaconda3\\lib\\site-packages\\numba\\cuda\\cudadrv\\devicearray.py:790: NumbaPerformanceWarning: \u001b[1mHost array used in CUDA kernel will incur copy overhead to/from device.\u001b[0m\n",
      "  warn(NumbaPerformanceWarning(msg))\n"
     ]
    },
    {
     "name": "stdout",
     "output_type": "stream",
     "text": [
      "0,200,400,600,800,1000,1200,Wall time: 11.1 s\n"
     ]
    }
   ],
   "source": [
    "%%time\n",
    "if __name__ == '__main__':\n",
    "    # Define parameters\n",
    "    N = 100\n",
    "    w = np.float32(1.8)\n",
    "    e = 1e-5\n",
    "\n",
    "    # start from rest\n",
    "    c_s = np.zeros((N, N), dtype=np.float32)\n",
    "    c_s[:, -1].fill(1)\n",
    "\n",
    "    time_grid_generate = 0\n",
    "    value_finder_time = 0\n",
    "    calculation_time = 0\n",
    "\n",
    "    # Generate red_black_grid\n",
    "    start_grid = time.time()\n",
    "    red, black = red_black_grid(N)\n",
    "    end_grid = time.time()\n",
    "    \n",
    "    time_grid_generate += (end_grid - start_grid)\n",
    "\n",
    "    # Launch the cuda threads and blocks\n",
    "    array_size = N * (N-2) / 2\n",
    "    thread_size = 32\n",
    "    block_size = (N*(N-2)) // thread_size\n",
    "\n",
    "\n",
    "    for k in range(2000):\n",
    "        \n",
    "        c_s_next, value_finder_t, calculation_t, calculation_b = get_c_next_gpu(\\\n",
    "            c_n=c_s, red_indices=red, black_indices=black, \\\n",
    "                b_size=block_size, t_size=thread_size ,N=N, w=w)\n",
    "\n",
    "        value_finder_time += value_finder_time\n",
    "        calculation_time += calculation_t + calculation_b\n",
    "\n",
    "        # apply the threshold\n",
    "        diff_s = c_s_next - c_s\n",
    "        delta_s = abs(max(diff_s.max(), diff_s.min(), key=abs))\n",
    "        \n",
    "        if delta_s < e:\n",
    "            break\n",
    "\n",
    "        # update the store matrix\n",
    "        c_s = np.copy(c_s_next)\n",
    "        \n",
    "        if k % 200 == 0:\n",
    "            print(k, end=',')"
   ]
  },
  {
   "cell_type": "code",
   "execution_count": 17,
   "metadata": {},
   "outputs": [
    {
     "name": "stdout",
     "output_type": "stream",
     "text": [
      "0.008000850677490234 0 7.971524000167847\n"
     ]
    }
   ],
   "source": [
    "print( time_grid_generate, value_finder_time, calculation_time)"
   ]
  },
  {
   "cell_type": "code",
   "execution_count": 185,
   "metadata": {},
   "outputs": [
    {
     "name": "stdout",
     "output_type": "stream",
     "text": [
      "[[1. 1. 1. ... 1. 1. 1.]\n",
      " [1. 1. 1. ... 1. 1. 1.]]\n",
      "Wall time: 999 µs\n"
     ]
    }
   ],
   "source": [
    "a = np.ones((2, 10000))\n",
    "print(a)\n",
    "\n",
    "def v_stack(a):\n",
    "    return np.array((a[0]-1, a[1]))\n",
    "\n",
    "%time b = v_stack(a)"
   ]
  },
  {
   "cell_type": "code",
   "execution_count": 201,
   "metadata": {},
   "outputs": [
    {
     "name": "stdout",
     "output_type": "stream",
     "text": [
      "[[ 2  3]\n",
      " [ 2 -2]]\n"
     ]
    },
    {
     "data": {
      "text/plain": [
       "((2, 3), (2, -2))"
      ]
     },
     "execution_count": 201,
     "metadata": {},
     "output_type": "execute_result"
    }
   ],
   "source": [
    "arr = np.array(((2,3),(2,-2)))\n",
    "print(arr)\n",
    "tuple(map(tuple, arr))"
   ]
  },
  {
   "cell_type": "code",
   "execution_count": null,
   "metadata": {},
   "outputs": [],
   "source": []
  },
  {
   "cell_type": "code",
   "execution_count": 205,
   "metadata": {},
   "outputs": [
    {
     "data": {
      "text/plain": [
       "array([1, 2, 3, 4])"
      ]
     },
     "execution_count": 205,
     "metadata": {},
     "output_type": "execute_result"
    }
   ],
   "source": [
    "a = np.array([1, 2, 3, 4, 5, 6])\n",
    "\n",
    "b = a[:-2]\n",
    "b"
   ]
  },
  {
   "cell_type": "code",
   "execution_count": 208,
   "metadata": {},
   "outputs": [
    {
     "data": {
      "text/plain": [
       "array([[0.75, 0.75, 0.75, 0.75, 0.75, 0.75, 0.75, 0.75, 0.75, 0.75, 0.75,\n",
       "        0.75],\n",
       "       [0.75, 0.75, 0.75, 0.75, 0.75, 0.75, 0.75, 0.75, 0.75, 0.75, 0.75,\n",
       "        0.75],\n",
       "       [0.75, 0.75, 0.75, 0.75, 0.75, 0.75, 0.75, 0.75, 0.75, 0.75, 0.75,\n",
       "        0.75],\n",
       "       [0.75, 0.75, 0.75, 0.75, 0.75, 0.75, 0.75, 0.75, 0.75, 0.75, 0.75,\n",
       "        0.75],\n",
       "       [0.75, 0.75, 0.75, 0.75, 0.75, 0.75, 0.75, 0.75, 0.75, 0.75, 0.75,\n",
       "        0.75],\n",
       "       [0.75, 0.75, 0.75, 0.75, 0.75, 0.75, 0.75, 0.75, 0.75, 0.75, 0.75,\n",
       "        0.75],\n",
       "       [0.75, 0.75, 0.75, 0.75, 0.75, 0.75, 0.75, 0.75, 0.75, 0.75, 0.75,\n",
       "        0.75],\n",
       "       [0.75, 0.75, 0.75, 0.75, 0.75, 0.75, 0.75, 0.75, 0.75, 0.75, 0.75,\n",
       "        0.75],\n",
       "       [0.75, 0.75, 0.75, 0.75, 0.75, 0.75, 0.75, 0.75, 0.75, 0.75, 0.75,\n",
       "        0.75],\n",
       "       [0.75, 0.75, 0.75, 0.75, 0.75, 0.75, 0.75, 0.75, 0.75, 0.75, 0.75,\n",
       "        0.75],\n",
       "       [0.75, 0.75, 0.75, 0.75, 0.75, 0.75, 0.75, 0.75, 0.75, 0.75, 0.75,\n",
       "        0.75],\n",
       "       [0.75, 0.75, 0.75, 0.75, 0.75, 0.75, 0.75, 0.75, 0.75, 0.75, 0.75,\n",
       "        0.75]])"
      ]
     },
     "execution_count": 208,
     "metadata": {},
     "output_type": "execute_result"
    }
   ],
   "source": [
    "u = np.ones((10+2, 10+2)) / 2\n",
    "u = u * u \n",
    "1-u"
   ]
  },
  {
   "cell_type": "code",
   "execution_count": null,
   "metadata": {},
   "outputs": [],
   "source": []
  }
 ],
 "metadata": {
  "interpreter": {
   "hash": "726782a55eb1f8c968fa3c0a110980b753af8602a37f7fa7fa52afcc5094d461"
  },
  "kernelspec": {
   "display_name": "Python 3.9.7 ('base')",
   "language": "python",
   "name": "python3"
  },
  "language_info": {
   "codemirror_mode": {
    "name": "ipython",
    "version": 3
   },
   "file_extension": ".py",
   "mimetype": "text/x-python",
   "name": "python",
   "nbconvert_exporter": "python",
   "pygments_lexer": "ipython3",
   "version": "3.9.7"
  },
  "orig_nbformat": 4
 },
 "nbformat": 4,
 "nbformat_minor": 2
}
