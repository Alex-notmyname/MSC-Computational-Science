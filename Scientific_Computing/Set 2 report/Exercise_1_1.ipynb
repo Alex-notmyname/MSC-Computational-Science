{
 "cells": [
  {
   "cell_type": "markdown",
   "metadata": {},
   "source": [
    "## Diffusion Limited Aggregation"
   ]
  },
  {
   "cell_type": "code",
   "execution_count": 316,
   "metadata": {},
   "outputs": [],
   "source": [
    "import numpy as np\n",
    "import matplotlib.pyplot as plt\n",
    "import seaborn as sns \n",
    "import time"
   ]
  },
  {
   "cell_type": "markdown",
   "metadata": {},
   "source": [
    "### SOR solver"
   ]
  },
  {
   "cell_type": "code",
   "execution_count": 120,
   "metadata": {},
   "outputs": [],
   "source": [
    "def SOR_solver(i, j, n_i, c_k, c_k_1, w=1.8):\n",
    "\n",
    "    # boundary conditions\n",
    "    if i == 0:\n",
    "        c_new = w/4 * (c_k[i+1, j] + c_k_1[-1, j] + c_k[i, j+1] + c_k_1[i, j-1]) + (1-w) * c_k[i, j]\n",
    "    elif i == n_i-1:\n",
    "        c_new = w/4 * (c_k[0, j] + c_k_1[i-1, j] + c_k[i, j+1] + c_k_1[i, j-1]) + (1-w) * c_k[i, j]\n",
    "        \n",
    "    else:\n",
    "        c_new = w/4 * (c_k[i+1, j] + c_k_1[i-1, j] + c_k[i, j+1] + c_k_1[i, j-1]) + (1-w) * c_k[i, j]\n",
    "\n",
    "    return c_new"
   ]
  },
  {
   "cell_type": "code",
   "execution_count": 211,
   "metadata": {},
   "outputs": [],
   "source": [
    "def growth_candi_generator(obj_old):\n",
    "    # create a blank growth candidate set\n",
    "    candidates = set()\n",
    "\n",
    "    obj_inter = obj_old.copy()\n",
    "\n",
    "    # generate the growth candidates\n",
    "    for (i, j)  in obj_old:\n",
    "\n",
    "        if i == 0:\n",
    "            g_i1, g_j1, g_j0 = (i+1, j), (i, j+1), (i, j-1)\n",
    "            obj_inter.update([g_i1, g_j1, g_j0])\n",
    "        if j == 0:\n",
    "            g_i1, g_i0, g_j1 = (i+1, j), (i-1, j), (i, j+1)\n",
    "            obj_inter.update([g_i1, g_i0, g_j1])\n",
    "        if i > 0 and j > 0:\n",
    "            g_i1, g_i0, g_j1, g_j0 = (i+1, j), (i-1, j), (i, j+1), (i, j-1)\n",
    "            \n",
    "            # update the neighbouring growth candidate\n",
    "            obj_inter.update([g_i1, g_i0, g_j1, g_j0])\n",
    "\n",
    "        # check if the growth candidates are in the cluster, \n",
    "        # and pick the ones that are not in the old object\n",
    "        growth_candi = obj_inter - obj_old\n",
    "\n",
    "        # Add the growth candidate to the memory\n",
    "        candidates.update(growth_candi)\n",
    "    \n",
    "    # return all the growth candidates\n",
    "    return candidates"
   ]
  },
  {
   "cell_type": "code",
   "execution_count": 214,
   "metadata": {},
   "outputs": [],
   "source": [
    "def growth_candi_selector(c_s, n, candi_all):\n",
    "    \n",
    "    # calculate the sum of c_candidate\n",
    "    p_c = 0\n",
    "    c_store = []\n",
    "\n",
    "    candi_all = list(candi_all)\n",
    "\n",
    "    for (i, j) in candi_all:\n",
    "        # use try/except to skip growth candidates that are out of grid bounds\n",
    "        try:\n",
    "            c_candi = np.around(c_s[i, j], decimals=4)\n",
    "\n",
    "            # Store the current c_candidate value\n",
    "            c_store.append(c_candi)\n",
    "            \n",
    "        except:\n",
    "            pass\n",
    "    \n",
    "    # print('\\n')\n",
    "\n",
    "    # calculate tbe probablity of each growth candidate\n",
    "    p_c = np.array(c_store) ** n\n",
    "    p_c = p_c / sum(p_c)\n",
    "\n",
    "    # select the real growth candidate\n",
    "    c_add = np.random.choice(c_store, size=1, p=p_c)\n",
    "    candidate = candi_all[c_store.index(c_add)]\n",
    "\n",
    "    return {candidate}"
   ]
  },
  {
   "cell_type": "code",
   "execution_count": 123,
   "metadata": {},
   "outputs": [],
   "source": [
    "def object_detector(i, j, obj):\n",
    "\n",
    "    passcheck = 0\n",
    "\n",
    "    # check if the current lattice point is inside the dla object\n",
    "    if (i, j) in obj:\n",
    "        passcheck = 1\n",
    "\n",
    "    return passcheck"
   ]
  },
  {
   "cell_type": "code",
   "execution_count": 317,
   "metadata": {},
   "outputs": [],
   "source": [
    "def DLA_sor(c_sol, obj, max_ite=5000, w=1.8, e=1e-5, N=50):\n",
    "    ##########################################################\n",
    "    # Initialize valuse\n",
    "    max_ite = max_ite\n",
    "    e = e\n",
    "    ###########################################################\n",
    "    # Create tracker matrix\n",
    "    # c_store_s = np.zeros((max_ite+1, N, N))\n",
    "    # c_store_s[:, :, -1].fill(1)\n",
    "\n",
    "    # Store the convergence measure delta\n",
    "    # delta_s = np.zeros(max_ite+1)\n",
    "\n",
    "    # set the object calue to 0\n",
    "    for (i, j) in obj:\n",
    "        # skip the ones that are out of bound\n",
    "        try:\n",
    "            c_sol[i, j] = 0\n",
    "        except:\n",
    "            print('out of bound!')\n",
    "            pass\n",
    "\n",
    "    # create matrix to store function value at the last step\n",
    "    c_keep_s = np.copy(c_sol)\n",
    "\n",
    "    # Create matrix to store function value at the current step\n",
    "    c_s = c_sol\n",
    "    ##################################################################################\n",
    "    # apply the sor method (pity that I don't know how to enable parellel computing :( )\n",
    "    for k in range(max_ite):\n",
    "        for j in range(N-2):\n",
    "            j += 1\n",
    "            for i in range(N):\n",
    "                ####################################################################          \n",
    "                # Check if the point (i,j) lies within the sink!\n",
    "                passcheck = object_detector(i=i, j=j, obj=obj)\n",
    "                if passcheck == 0:\n",
    "                    c_s[i, j] = SOR_solver(i, j, n_i=N, c_k=c_keep_s, c_k_1=c_s, w=w)\n",
    "                else:\n",
    "                    c_s[i, j] = 0\n",
    "                ####################################################################\n",
    "        \n",
    "        # Update the tracker\n",
    "        # c_store_s[k+1, :, :] = c_s\n",
    "        \n",
    "        # apply the threshold\n",
    "        diff_s = c_s - c_keep_s\n",
    "        # delta_s[k] = abs(max(diff_s.max(), diff_s.min(), key=abs))\n",
    "        delta_s = abs(max(diff_s.max(), diff_s.min(), key=abs))\n",
    "        \n",
    "        if delta_s < e:\n",
    "            break\n",
    "\n",
    "        # update the store matrix\n",
    "        c_keep_s = np.copy(c_s)\n",
    "    #####################################################################################\n",
    "\n",
    "    return c_s, k\n"
   ]
  },
  {
   "cell_type": "code",
   "execution_count": 323,
   "metadata": {},
   "outputs": [],
   "source": [
    "def implement_dla(c_sol, obj_0, N, n, max_iteration=100, w=1.8):\n",
    "    obj = obj_0\n",
    "    k_all = 0\n",
    "\n",
    "    # simulate the DLA\n",
    "    for i in range(max_iteration):\n",
    "        # compute the PDE solution with dla object \n",
    "        c_sol, k_single = DLA_sor(c_sol=c_sol, obj=obj, N=N, w=w)\n",
    "\n",
    "        # calculate the sum of convergency step\n",
    "        k_all += k_single\n",
    "\n",
    "        # update the dla object\n",
    "        growth_candis = growth_candi_generator(obj_old=obj)\n",
    "        candidate = growth_candi_selector(c_s=c_sol, candi_all=growth_candis, n=n)\n",
    "        obj.update(candidate)\n",
    "\n",
    "        print(i, end=',')\n",
    "\n",
    "    k_avg = k_all / max_iteration\n",
    "    \n",
    "    return c_sol, obj, k_avg"
   ]
  },
  {
   "cell_type": "code",
   "execution_count": 320,
   "metadata": {},
   "outputs": [
    {
     "name": "stdout",
     "output_type": "stream",
     "text": [
      "0\n",
      "0,1,2,3,4,5,6,7,8,9,10,11,12,13,14,15,16,17,18,19,20,21,22,23,24,25,26,27,28,29,30,31,32,33,34,35,36,37,38,39,40,41,42,43,44,45,46,47,48,49,50,51,52,53,54,55,56,57,58,59,60,61,62,63,64,65,66,67,68,69,70,71,72,73,74,75,76,77,78,79,80,81,82,83,84,85,86,87,88,89,90,91,92,93,94,95,96,97,98,99,--- 32.67931032180786 seconds --- \n",
      "\n",
      "0.5\n",
      "0,1,2,3,4,5,6,7,8,9,10,11,12,13,14,15,16,17,18,19,20,21,22,23,24,25,26,27,28,29,30,31,32,33,34,35,36,37,38,39,40,41,42,43,44,45,46,47,48,49,50,51,52,53,54,55,56,57,58,59,60,61,62,63,64,65,66,67,68,69,70,71,72,73,74,75,76,77,78,79,80,81,82,83,84,85,86,87,88,89,90,91,92,93,94,95,96,97,98,99,--- 51.41650199890137 seconds --- \n",
      "\n",
      "1\n",
      "0,1,2,3,4,5,6,7,8,9,10,11,12,13,14,15,16,17,18,19,20,21,22,23,24,25,26,27,28,29,30,31,32,33,34,35,36,37,38,39,40,41,42,43,44,45,46,47,48,49,50,51,52,53,54,55,56,57,58,59,60,61,62,63,64,65,66,67,68,69,70,71,72,73,74,75,76,77,78,79,80,81,82,83,84,85,86,87,88,89,90,91,92,93,94,95,96,97,98,99,--- 77.33730173110962 seconds --- \n",
      "\n",
      "1.5\n",
      "0,1,2,3,4,5,6,7,8,9,10,11,12,13,14,15,16,17,18,19,20,21,22,23,24,25,26,27,28,29,30,31,32,33,34,35,36,37,38,39,40,41,42,43,44,45,46,47,48,49,50,51,52,53,54,55,56,57,58,59,60,61,62,63,64,65,66,67,68,69,70,71,72,73,74,75,76,77,78,79,80,81,82,83,84,85,86,87,88,89,90,91,92,93,94,95,96,97,98,99,--- 84.34986972808838 seconds --- \n",
      "\n",
      "2\n",
      "0,1,2,3,4,5,6,7,8,9,10,11,12,13,14,15,16,17,18,19,20,21,22,23,24,25,26,27,28,29,30,31,32,33,34,35,36,37,38,39,40,41,42,43,44,45,46,47,48,49,50,51,52,53,54,55,56,57,58,59,60,61,62,63,64,65,66,67,68,69,70,71,72,73,74,75,76,77,78,79,80,81,82,83,84,85,86,87,88,89,90,91,92,93,94,95,96,97,98,99,--- 113.30534791946411 seconds --- \n",
      "\n",
      "2.5\n",
      "0,1,2,3,4,5,6,7,8,9,10,11,12,13,14,15,16,17,18,19,20,21,22,23,24,25,26,27,28,29,30,31,32,33,34,35,36,37,38,39,40,41,42,43,44,45,46,47,48,49,50,51,52,53,54,55,56,57,58,59,60,61,62,63,64,65,66,67,68,69,70,71,72,73,74,75,76,77,78,79,80,81,82,83,84,85,86,87,88,89,90,91,92,93,94,95,96,97,98,99,--- 87.34053945541382 seconds --- \n",
      "\n"
     ]
    }
   ],
   "source": [
    "if __name__ == '__main__':\n",
    "    # define the interval size we need\n",
    "    N = 100\n",
    "\n",
    "    # Start the simulation with the analytical solution\n",
    "    c_0 = np.linspace(0, 1, N)\n",
    "    c_analytic = np.tile(c_0, (N, 1))\n",
    "    ite = 100\n",
    "\n",
    "    # create the original dla object, it is a set!\n",
    "    obj_origin = {(50, 0)}\n",
    "\n",
    "    n_set = [0, 0.5, 1, 1.5, 2, 2.5]\n",
    "\n",
    "    c_dla = np.zeros((len(n_set), N, N))\n",
    "    obj_final = []\n",
    "    k_store = []\n",
    "\n",
    "    for i, n in enumerate(n_set):\n",
    "\n",
    "        # check the time my programme takes\n",
    "        start_time = time.time()\n",
    "\n",
    "        print(n)\n",
    "        c_dla_, obj_final_, k_avg = implement_dla(c_sol=c_analytic, obj_0=obj_origin, N=N, max_iteration=ite, n=n)\n",
    "        c_dla[i] = c_dla_\n",
    "        obj_final.append(list(obj_final_))\n",
    "        k_store.append(k_avg)\n",
    "\n",
    "        print(\"--- %s seconds ---\" % (time.time() - start_time), '\\n')\n"
   ]
  },
  {
   "cell_type": "code",
   "execution_count": 322,
   "metadata": {},
   "outputs": [
    {
     "data": {
      "text/plain": [
       "[25.59, 41.14, 62.85, 69.25, 93.47, 71.99]"
      ]
     },
     "execution_count": 322,
     "metadata": {},
     "output_type": "execute_result"
    }
   ],
   "source": [
    "k_store"
   ]
  },
  {
   "cell_type": "code",
   "execution_count": 321,
   "metadata": {},
   "outputs": [
    {
     "data": {
      "image/png": "[encoded data removed]",
      "text/plain": [
       "<Figure size 720x864 with 6 Axes>"
      ]
     },
     "metadata": {},
     "output_type": "display_data"
    }
   ],
   "source": [
    "c_dla = np.array(c_dla)\n",
    "\n",
    "fig1, ax1 = plt.subplots(nrows=3, ncols=2)\n",
    "\n",
    "plt.rcParams['figure.figsize'] = (10, 12)\n",
    "\n",
    "sns.heatmap(np.flipud(c_dla[0].T), cbar=False, xticklabels=False, yticklabels=False, mask=np.flipud(c_dla[0].T)==0, ax=ax1[0][0])\n",
    "ax1[0][0].set(xlabel='x', ylabel='y', title=r'$\\eta$ = 0')\n",
    "sns.heatmap(np.flipud(c_dla[1].T), cbar=False, xticklabels=False, yticklabels=False, mask=np.flipud(c_dla[1].T)==0, ax=ax1[0][1])\n",
    "ax1[0][1].set(xlabel='x', ylabel='y', title=r'$\\eta$ = 0.5')\n",
    "sns.heatmap(np.flipud(c_dla[2].T), cbar=False, xticklabels=False, yticklabels=False, mask=np.flipud(c_dla[2].T)==0, ax=ax1[1][0])\n",
    "ax1[1][0].set(xlabel='x', ylabel='y', title=r'$\\eta$ = 1')\n",
    "sns.heatmap(np.flipud(c_dla[3].T), cbar=False, xticklabels=False, yticklabels=False, mask=np.flipud(c_dla[3].T)==0, ax=ax1[1][1])\n",
    "ax1[1][1].set(xlabel='x', ylabel='y', title=r'$\\eta$ = 1.5')\n",
    "sns.heatmap(np.flipud(c_dla[4].T), cbar=False, xticklabels=False, yticklabels=False, mask=np.flipud(c_dla[4].T)==0, ax=ax1[2][0])\n",
    "ax1[2][0].set(xlabel='x', ylabel='y', title=r'$\\eta$ = 2')\n",
    "sns.heatmap(np.flipud(c_dla[5].T), cbar=False, xticklabels=False, yticklabels=False, mask=np.flipud(c_dla[5].T)==0, ax=ax1[2][1])\n",
    "ax1[2][1].set(xlabel='x', ylabel='y', title=r'$\\eta$ = 2.5')\n",
    "\n",
    "plt.show()"
   ]
  },
  {
   "cell_type": "markdown",
   "metadata": {},
   "source": [
    "Question: Maybe we can use the property of $\\textbf{set}$ to reduce the time required to solve the diffusion equation?"
   ]
  },
  {
   "cell_type": "code",
   "execution_count": 362,
   "metadata": {},
   "outputs": [
    {
     "name": "stdout",
     "output_type": "stream",
     "text": [
      "0\n",
      "0,1,2,3,4,5,6,7,8,9,10,11,12,13,14,15,16,17,18,19,20,21,22,23,24,25,26,27,28,29,30,31,32,33,34,35,36,37,38,39,40,41,42,43,44,45,46,47,48,49,50,51,52,53,54,55,56,57,58,59,60,61,62,63,64,65,66,67,68,69,70,71,72,73,74,75,76,77,78,79,80,81,82,83,84,85,86,87,88,89,90,91,92,93,94,95,96,97,98,99,--- 26.208006381988525 seconds --- \n",
      "\n",
      "0.5\n",
      "0,1,2,3,4,5,6,7,8,9,10,11,12,13,14,15,16,17,18,19,20,21,22,23,24,25,26,27,28,29,30,31,32,33,34,35,36,37,38,39,40,41,42,43,44,45,46,47,48,49,50,51,52,53,54,55,56,57,58,59,60,61,62,63,64,65,66,67,68,69,70,71,72,73,74,75,76,77,78,79,80,81,82,83,84,85,86,87,88,89,90,91,92,93,94,95,96,97,98,99,--- 42.07174897193909 seconds --- \n",
      "\n",
      "1\n",
      "0,1,2,3,4,5,6,7,8,9,10,11,12,13,14,15,16,17,18,19,20,21,22,23,24,25,26,27,28,29,30,31,32,33,34,35,36,37,38,39,40,41,42,43,44,45,46,47,48,49,50,51,52,53,54,55,56,57,58,59,60,61,62,63,64,65,66,67,68,69,70,71,72,73,74,75,76,77,78,79,80,81,82,83,84,85,86,87,88,89,90,91,92,93,94,95,96,97,98,99,--- 54.830031633377075 seconds --- \n",
      "\n",
      "1.5\n",
      "0,1,2,3,4,5,6,7,8,9,10,11,12,13,14,15,16,17,18,19,20,21,22,23,24,25,26,27,28,29,30,31,32,33,34,35,36,37,38,39,40,41,42,43,44,45,46,47,48,49,50,51,52,53,54,55,56,57,58,59,60,61,62,63,64,65,66,67,68,69,70,71,72,73,74,75,76,77,78,79,80,81,82,83,84,85,86,87,88,89,90,91,92,93,94,95,96,97,98,99,--- 102.02408385276794 seconds --- \n",
      "\n",
      "2\n",
      "0,1,2,3,4,5,6,7,8,9,10,11,12,13,14,15,16,17,18,19,20,21,22,23,24,25,26,27,28,29,30,31,32,33,34,35,36,37,38,39,40,41,42,43,44,45,46,47,48,49,50,51,52,53,54,55,56,57,58,59,60,61,62,63,64,65,66,67,68,69,70,71,72,73,74,75,76,77,78,79,80,81,82,83,84,85,86,87,88,89,90,91,92,93,94,95,96,97,98,99,--- 138.92445349693298 seconds --- \n",
      "\n",
      "2.5\n",
      "0,1,2,3,4,5,6,7,8,9,10,11,12,13,14,15,16,17,18,19,20,21,22,23,24,25,26,27,28,29,30,31,32,33,34,35,36,37,38,39,40,41,42,43,44,45,46,47,48,49,50,51,52,53,54,55,56,57,58,59,60,61,62,63,64,65,66,67,68,69,70,71,72,73,74,75,76,77,78,79,80,81,82,83,84,85,86,87,88,89,90,91,92,93,94,95,96,97,98,99,--- 82.12653851509094 seconds --- \n",
      "\n"
     ]
    }
   ],
   "source": [
    "if __name__ == '__main__':\n",
    "    # define the interval size we need\n",
    "    N = 100\n",
    "\n",
    "    # Start the simulation with the analytical solution\n",
    "    c_0 = np.linspace(0, 1, N)\n",
    "    c_analytic = np.tile(c_0, (N, 1))\n",
    "    ite = 100\n",
    "\n",
    "    # create the original dla object, it is a set!\n",
    "    obj_origin = {(50, 0)}\n",
    "\n",
    "    n_set = [0, 0.5, 1, 1.5, 2, 2.5]\n",
    "\n",
    "    c_dla_w = np.zeros((len(n_set), N, N))\n",
    "    obj_final_w = []\n",
    "    k_store_w = []\n",
    "\n",
    "    for i, n in enumerate(n_set):\n",
    "\n",
    "        # check the time my programme takes\n",
    "        start_time = time.time()\n",
    "\n",
    "        print(n)\n",
    "        c_dla_, obj_final_, k_avg = implement_dla(c_sol=c_analytic, obj_0=obj_origin, N=N, max_iteration=ite, n=n, w=1.75)\n",
    "        c_dla_w[i] = c_dla_\n",
    "        obj_final_w.append(list(obj_final_))\n",
    "        k_store_w.append(k_avg)\n",
    "\n",
    "        print(\"--- %s seconds ---\" % (time.time() - start_time), '\\n')"
   ]
  },
  {
   "cell_type": "code",
   "execution_count": 361,
   "metadata": {},
   "outputs": [
    {
     "data": {
      "image/png": "[encoded data removed]",
      "text/plain": [
       "<Figure size 720x864 with 1 Axes>"
      ]
     },
     "metadata": {
      "needs_background": "light"
     },
     "output_type": "display_data"
    }
   ],
   "source": [
    "plt.plot(n_set, k_store, label='w=1.8')\n",
    "plt.plot(n_set, k_store_w, label='w=175')\n",
    "plt.legend()\n",
    "plt.show()"
   ]
  },
  {
   "cell_type": "markdown",
   "metadata": {},
   "source": [
    "### optimise SOR by setting $\\omega$"
   ]
  },
  {
   "cell_type": "code",
   "execution_count": null,
   "metadata": {},
   "outputs": [],
   "source": []
  },
  {
   "cell_type": "markdown",
   "metadata": {},
   "source": [
    "## Accelerating the solving process by using numba and red-black ordering method"
   ]
  },
  {
   "cell_type": "code",
   "execution_count": null,
   "metadata": {},
   "outputs": [],
   "source": [
    "from numba import jit, njit, vectorize, prange\n",
    "import time\n",
    "\n",
    "@vectorize\n",
    "def sor_rb_solver(c_i_j, c_i_0, c_i_1, c_j_0, c_j_1, w=1.8):\n",
    "\n",
    "    c_new = w/4 * (c_i_0 + c_i_1 + c_j_0 + c_j_1) + (1-w) * c_i_j\n",
    "\n",
    "    return c_new"
   ]
  },
  {
   "cell_type": "code",
   "execution_count": null,
   "metadata": {},
   "outputs": [],
   "source": [
    "# construct the red_black ordering grid\n",
    "# Note that red block: odd & odd and even & even; black block: even & odd and odd & even\n",
    "\n",
    "def red_black_grid(N):\n",
    "    x = np.linspace(0, N-1, N, dtype=int)\n",
    "    # Note that the index of y starts from j=1\n",
    "    y = np.linspace(1, N-2, N-2, dtype=int)\n",
    "\n",
    "    red_block = set()\n",
    "    black_block = set()\n",
    "    for p in prange(len(x)):\n",
    "        i = x[p]\n",
    "        for j in y:\n",
    "            if ((i+j) % 2 == 1):\n",
    "                red_block.update({(i, j)})\n",
    "            else:\n",
    "                black_block.update({(i, j)}) \n",
    "\n",
    "    red = list(red_block)\n",
    "    black = list(black_block)\n",
    "\n",
    "    # get the indices for red and black blocks\n",
    "    red_indices = np.array(([i[0] for i in red], [i[1] for i in red]))\n",
    "    black_indices = np.array(([i[0] for i in black], [i[1] for i in black]))\n",
    "\n",
    "    return red_indices, black_indices"
   ]
  },
  {
   "cell_type": "code",
   "execution_count": null,
   "metadata": {},
   "outputs": [],
   "source": [
    "def lattice_value_finder(c_n, b_ind, N):\n",
    "\n",
    "    b_i0, b_i1, b_j0, b_j1 = np.array((b_ind[0]-1, b_ind[1])), np.array((b_ind[0]+1, b_ind[1])), \\\n",
    "        np.array((b_ind[0], b_ind[1]-1)), np.array((b_ind[0], b_ind[1]+1))\n",
    "    \n",
    "    '''\n",
    "    Watch out here, might be wrong!\n",
    "    '''\n",
    "    # Adjust the block index for boundary conditions (periodic x)\n",
    "    b_i0[b_i0 < 0] = N - 1\n",
    "    b_i1[b_i1 >= N] = 0\n",
    "\n",
    "    b_ind, b_i0, b_i1, b_j0, b_j1 = tuple(b_ind), tuple(b_i0), tuple(b_i1), tuple(b_j0), tuple(b_j1), \n",
    "\n",
    "    c, c_i0, c_i1, c_j0, c_j1 = c_n[b_ind], c_n[b_i0], c_n[b_i1], c_n[b_j0], c_n[b_j1]\n",
    "\n",
    "    return c, c_i0, c_i1, c_j0, c_j1"
   ]
  },
  {
   "cell_type": "code",
   "execution_count": null,
   "metadata": {},
   "outputs": [],
   "source": [
    "def get_c_next(c_n, red_indices, black_indices, N=100, w=1.8):\n",
    "\n",
    "    c_n = np.copy(c_n)\n",
    "\n",
    "    start_red_value_finder = time.time()\n",
    "\n",
    "    # get the c value for red blocks\n",
    "    c_red = lattice_value_finder(c_n=c_n, b_ind=red_indices, N=N)\n",
    "    c_red_ij, c_red_i0, c_red_i1, c_red_j0, c_redj1 = c_red[0], c_red[1], c_red[2], c_red[3], c_red[4]\n",
    "\n",
    "    end_red_value_finder = time.time()\n",
    "    value_finder_time = end_red_value_finder - start_red_value_finder\n",
    "\n",
    "    start_calculation = time.time()\n",
    "\n",
    "    # update all the c_n+1 value for red blocks\n",
    "    c_n_red = sor_rb_solver(c_red_ij, c_red_i0, c_red_i1, c_red_j0, c_redj1, 1.93)\n",
    "    c_n[tuple(red_indices)] = c_n_red\n",
    "\n",
    "    end_calculation = time.time()\n",
    "\n",
    "    calculation_time = end_calculation - start_calculation\n",
    "\n",
    "    # get the c value for black blocks\n",
    "    c_black = lattice_value_finder(c_n=c_n, b_ind=black_indices, N=N)\n",
    "    c_black_ij, c_black_i0, c_black_i1, c_black_j0, c_black_j1 = c_black[0], c_black[1], c_black[2], c_black[3], c_black[4]\n",
    "    \n",
    "    # update all the c_n+1 value for black blocks\n",
    "    c_n_black = sor_rb_solver(c_black_ij, c_black_i0, c_black_i1, c_black_j0, c_black_j1, w)\n",
    "    c_n[tuple(black_indices)] = c_n_black\n",
    "    \n",
    "    # return the c_next matrix\n",
    "    return c_n, value_finder_time, calculation_time"
   ]
  },
  {
   "cell_type": "code",
   "execution_count": null,
   "metadata": {},
   "outputs": [
    {
     "name": "stdout",
     "output_type": "stream",
     "text": [
      "0,200,400,600,800,1000,1200,1400,1600,Wall time: 1.95 s\n"
     ]
    }
   ],
   "source": [
    "%%time\n",
    "if __name__ == '__main__':\n",
    "    # Define parameters\n",
    "    N = 150\n",
    "    w = 1.8\n",
    "    e = 1e-5\n",
    "\n",
    "    # start from rest\n",
    "    c_s = np.zeros((N, N))\n",
    "    c_s[:, -1].fill(1)\n",
    "\n",
    "    time_grid_generate = 0\n",
    "    value_finder_time = 0\n",
    "    calculation_time = 0\n",
    "\n",
    "    # Generate red_black_grid\n",
    "    start_grid = time.time()\n",
    "    red, black = red_black_grid(N)\n",
    "    end_grid = time.time()\n",
    "    \n",
    "    time_grid_generate += (end_grid - start_grid)\n",
    "\n",
    "\n",
    "    for k in range(2000):\n",
    "        \n",
    "        c_s_next, value_finder_t, calculation_t = get_c_next(c_n=c_s, red_indices=red, black_indices=black, N=N, w=w)\n",
    "\n",
    "        value_finder_time += value_finder_time\n",
    "        calculation_time += calculation_t\n",
    "\n",
    "        # apply the threshold\n",
    "        diff_s = c_s_next - c_s\n",
    "        delta_s = abs(max(diff_s.max(), diff_s.min(), key=abs))\n",
    "        \n",
    "        if delta_s < e:\n",
    "            break\n",
    "\n",
    "        # update the store matrix\n",
    "        c_s = np.copy(c_s_next)\n",
    "        \n",
    "        if k % 200 == 0:\n",
    "            print(k, end=',')"
   ]
  },
  {
   "cell_type": "code",
   "execution_count": null,
   "metadata": {},
   "outputs": [
    {
     "name": "stdout",
     "output_type": "stream",
     "text": [
      "0.015003204345703125 0 0.18203353881835938\n"
     ]
    }
   ],
   "source": [
    "print( time_grid_generate, value_finder_time, calculation_time)"
   ]
  },
  {
   "cell_type": "markdown",
   "metadata": {},
   "source": []
  }
 ],
 "metadata": {
  "interpreter": {
   "hash": "726782a55eb1f8c968fa3c0a110980b753af8602a37f7fa7fa52afcc5094d461"
  },
  "kernelspec": {
   "display_name": "Python 3.9.7 ('base')",
   "language": "python",
   "name": "python3"
  },
  "language_info": {
   "codemirror_mode": {
    "name": "ipython",
    "version": 3
   },
   "file_extension": ".py",
   "mimetype": "text/x-python",
   "name": "python",
   "nbconvert_exporter": "python",
   "pygments_lexer": "ipython3",
   "version": "3.9.7"
  },
  "orig_nbformat": 4
 },
 "nbformat": 4,
 "nbformat_minor": 2
}
