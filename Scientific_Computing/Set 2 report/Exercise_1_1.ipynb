{
 "cells": [
  {
   "cell_type": "markdown",
   "metadata": {},
   "source": [
    "## Diffusion Limited Aggregation"
   ]
  },
  {
   "cell_type": "code",
   "execution_count": 61,
   "metadata": {},
   "outputs": [],
   "source": [
    "import numpy as np\n",
    "import matplotlib.pyplot as plt\n",
    "import seaborn as sns "
   ]
  },
  {
   "cell_type": "markdown",
   "metadata": {},
   "source": [
    "### SOR solver"
   ]
  },
  {
   "cell_type": "code",
   "execution_count": 120,
   "metadata": {},
   "outputs": [],
   "source": [
    "def SOR_solver(i, j, n_i, c_k, c_k_1, w=1.8):\n",
    "\n",
    "    # boundary conditions\n",
    "    if i == 0:\n",
    "        c_new = w/4 * (c_k[i+1, j] + c_k_1[-1, j] + c_k[i, j+1] + c_k_1[i, j-1]) + (1-w) * c_k[i, j]\n",
    "    elif i == n_i-1:\n",
    "        c_new = w/4 * (c_k[0, j] + c_k_1[i-1, j] + c_k[i, j+1] + c_k_1[i, j-1]) + (1-w) * c_k[i, j]\n",
    "        \n",
    "    else:\n",
    "        c_new = w/4 * (c_k[i+1, j] + c_k_1[i-1, j] + c_k[i, j+1] + c_k_1[i, j-1]) + (1-w) * c_k[i, j]\n",
    "\n",
    "    return c_new"
   ]
  },
  {
   "cell_type": "code",
   "execution_count": 121,
   "metadata": {},
   "outputs": [],
   "source": [
    "def growth_candi_generator(obj_old):\n",
    "    # create a blank growth candidate set\n",
    "    candidates = set()\n",
    "\n",
    "    obj_inter = obj_old.copy()\n",
    "\n",
    "    # generate the growth candidates\n",
    "    for (i, j)  in obj_old:\n",
    "\n",
    "        if i == 0:\n",
    "            g_i1, g_j1, g_j0 = (i+1, j), (i, j+1), (i, j-1)\n",
    "            obj_inter.update([g_i1, g_j1, g_j0])\n",
    "        elif j == 0:\n",
    "            g_i1, g_i0, g_j1 = (i+1, j), (i-1, j), (i, j+1)\n",
    "            obj_inter.update([g_i1, g_i0, g_j1])\n",
    "        else:\n",
    "            g_i1, g_i0, g_j1, g_j0 = (i+1, j), (i-1, j), (i, j+1), (i, j-1)\n",
    "\n",
    "            # update the neighbouring growth candidate\n",
    "            obj_inter.update([g_i1, g_i0, g_j1, g_j0])\n",
    "\n",
    "        # check if the growth candidates are in the cluster, \n",
    "        # and pick the ones that are not in the old object\n",
    "        growth_candi = obj_inter - obj_old\n",
    "\n",
    "        # Add the growth candidate to the memory\n",
    "        candidates.update(growth_candi)\n",
    "    \n",
    "    # return all the growth candidates\n",
    "    return candidates"
   ]
  },
  {
   "cell_type": "code",
   "execution_count": 133,
   "metadata": {},
   "outputs": [],
   "source": [
    "def growth_candi_selector(c_s, candi_all, n=1):\n",
    "    \n",
    "    # calculate the sum of c_candidate\n",
    "    c_all = 0\n",
    "    c_store = []\n",
    "\n",
    "    candi_all = list(candi_all)\n",
    "\n",
    "    for (i, j) in candi_all:\n",
    "        c_candi = np.around(c_s[i, j], decimals=4)\n",
    "        # print(c_candi, end=',')\n",
    "\n",
    "        # calculate the sum of c_candidate\n",
    "        c_all += c_candi\n",
    "\n",
    "        # Store the current c_candidate value\n",
    "        c_store.append(c_candi)\n",
    "    \n",
    "    # print('\\n')\n",
    "\n",
    "    # calculate tbe probablity of each growth candidate\n",
    "    p_c = np.array(c_store) ** n / c_all ** n\n",
    "\n",
    "    # select the real growth candidate\n",
    "    c_add = np.random.choice(c_store, size=1, p=p_c)\n",
    "    candidate = candi_all[c_store.index(c_add)]\n",
    "\n",
    "    return {candidate}"
   ]
  },
  {
   "cell_type": "code",
   "execution_count": 123,
   "metadata": {},
   "outputs": [],
   "source": [
    "def object_detector(i, j, obj):\n",
    "\n",
    "    passcheck = 0\n",
    "\n",
    "    # check if the current lattice point is inside the dla object\n",
    "    if (i, j) in obj:\n",
    "        passcheck = 1\n",
    "\n",
    "    return passcheck"
   ]
  },
  {
   "cell_type": "code",
   "execution_count": 124,
   "metadata": {},
   "outputs": [],
   "source": [
    "def DLA_sor(c_sol, obj, max_ite=5000, w=1.8, e=1e-5, N=50):\n",
    "    ##########################################################\n",
    "    # Initialize valuse\n",
    "    max_ite = max_ite\n",
    "    e = e\n",
    "    ###########################################################\n",
    "    # Create tracker matrix\n",
    "    # c_store_s = np.zeros((max_ite+1, N, N))\n",
    "    # c_store_s[:, :, -1].fill(1)\n",
    "\n",
    "    # Store the convergence measure delta\n",
    "    # delta_s = np.zeros(max_ite+1)\n",
    "\n",
    "    # set the object calue to 0\n",
    "    for (i, j) in obj:\n",
    "        c_sol[i, j] = 0\n",
    "\n",
    "    # create matrix to store function value at the last step\n",
    "    c_keep_s = np.copy(c_sol)\n",
    "\n",
    "    # Create matrix to store function value at the current step\n",
    "    c_s = c_sol\n",
    "    ##################################################################################\n",
    "    # apply the sor method (pity that I don't know how to enable parellel computing :( )\n",
    "    for _ in range(max_ite):\n",
    "        for j in range(N-2):\n",
    "            j += 1\n",
    "            for i in range(N):\n",
    "                ####################################################################          \n",
    "                # Check if the point (i,j) lies within the sink!\n",
    "                passcheck = object_detector(i=i, j=j, obj=obj)\n",
    "                if passcheck == 0:\n",
    "                    c_s[i, j] = SOR_solver(i, j, n_i=N, c_k=c_keep_s, c_k_1=c_s, w=w)\n",
    "                else:\n",
    "                    c_s[i, j] = 0\n",
    "                ####################################################################\n",
    "        \n",
    "        # Update the tracker\n",
    "        # c_store_s[k+1, :, :] = c_s\n",
    "        \n",
    "        # apply the threshold\n",
    "        diff_s = c_s - c_keep_s\n",
    "        # delta_s[k] = abs(max(diff_s.max(), diff_s.min(), key=abs))\n",
    "        delta_s = abs(max(diff_s.max(), diff_s.min(), key=abs))\n",
    "        \n",
    "        if delta_s < e:\n",
    "            break\n",
    "\n",
    "        # update the store matrix\n",
    "        c_keep_s = np.copy(c_s)\n",
    "    #####################################################################################\n",
    "\n",
    "    return c_s\n"
   ]
  },
  {
   "cell_type": "code",
   "execution_count": 131,
   "metadata": {},
   "outputs": [],
   "source": [
    "def implement_dla(c_sol, obj_0, N, max_iteration=100):\n",
    "    obj = obj_0\n",
    "\n",
    "    # simulate the DLA\n",
    "    for i in range(max_iteration):\n",
    "        # compute the PDE solution with dla object \n",
    "        c_sol = DLA_sor(c_sol=c_sol, obj=obj, N=N)\n",
    "\n",
    "        # update the dla object\n",
    "        growth_candis = growth_candi_generator(obj_old=obj)\n",
    "        candidate = growth_candi_selector(c_s=c_sol, candi_all=growth_candis, n=1)\n",
    "        obj.update(candidate)\n",
    "\n",
    "        print(i, end=',')\n",
    "\n",
    "    return c_sol, obj"
   ]
  },
  {
   "cell_type": "code",
   "execution_count": 134,
   "metadata": {},
   "outputs": [
    {
     "name": "stdout",
     "output_type": "stream",
     "text": [
      "0,1,2,3,4,5,6,7,8,9,10,11,12,13,14,15,16,17,18,19,20,21,22,23,24,25,26,27,28,29,30,31,32,33,34,35,36,37,38,39,40,41,42,43,44,45,46,47,48,49,50,51,52,53,54,55,56,57,58,59,60,61,62,63,64,65,66,67,68,69,70,71,72,73,74,75,76,77,78,79,80,81,82,83,84,85,86,87,88,89,90,91,92,93,94,95,96,97,98,99,100,101,102,103,104,105,106,107,108,109,110,111,112,113,114,115,116,117,118,119,120,121,122,123,124,125,126,127,128,129,130,131,132,133,134,135,136,137,138,139,140,141,142,143,144,145,146,147,148,149,150,151,152,153,154,155,156,157,158,159,160,161,162,163,164,165,166,167,168,169,170,171,172,173,174,175,176,177,178,179,180,181,182,183,184,185,186,187,188,189,190,191,192,193,194,195,196,197,198,199,200,201,202,203,204,205,206,207,208,209,210,211,212,213,214,215,216,217,218,219,220,221,222,223,224,225,226,227,228,229,230,231,232,233,234,235,236,237,238,239,240,241,242,243,244,245,246,247,248,249,250,251,252,253,254,255,256,257,258,259,260,261,262,263,264,265,266,267,268,269,270,271,272,273,274,275,276,277,278,279,280,281,282,283,284,285,286,287,288,289,290,291,292,293,294,295,296,297,298,299,300,301,302,303,304,305,306,307,308,309,310,311,312,313,314,315,316,317,318,319,320,321,322,323,324,325,326,327,328,329,330,331,332,333,334,335,336,337,338,339,340,341,342,343,344,345,346,347,348,349,350,351,352,353,354,355,356,357,358,359,360,361,362,363,364,365,366,367,368,369,370,371,372,373,374,375,376,377,378,379,380,381,382,383,384,385,386,387,388,389,390,391,392,393,394,395,396,397,398,399,400,401,402,403,404,405,406,407,408,409,410,411,412,413,414,415,416,417,418,419,420,421,422,423,424,425,426,427,428,429,430,431,432,433,434,435,436,437,438,439,440,441,442,443,444,445,446,447,448,449,450,451,452,453,454,455,456,457,458,459,460,461,462,463,464,465,466,467,468,469,470,471,472,473,474,475,476,477,478,479,480,481,482,483,484,485,486,487,488,489,490,491,492,493,494,495,496,497,498,499,"
     ]
    }
   ],
   "source": [
    "if __name__ == '__main__':\n",
    "    # define the interval size we need\n",
    "    N = 100\n",
    "\n",
    "    # Start the simulation with the analytical solution\n",
    "    c_0 = np.linspace(0, 1, N)\n",
    "    c_analytic = np.tile(c_0, (N, 1))\n",
    "    ite = 500\n",
    "\n",
    "    # create the original dla object, it is a set!\n",
    "    obj_origin = {(50, 0)}\n",
    "\n",
    "    c_dla, obj_final = implement_dla(c_sol=c_analytic, obj_0=obj_origin, N=N, max_iteration=ite)\n"
   ]
  },
  {
   "cell_type": "code",
   "execution_count": 152,
   "metadata": {},
   "outputs": [
    {
     "data": {
      "image/png": "[encoded data removed]",
      "text/plain": [
       "<Figure size 432x288 with 2 Axes>"
      ]
     },
     "metadata": {
      "needs_background": "light"
     },
     "output_type": "display_data"
    }
   ],
   "source": [
    "sns.heatmap(np.flipud(c_dla.T), cbar=True, xticklabels=False, yticklabels=False, mask=np.flipud(c_dla.T)==0)\n",
    "plt.show()"
   ]
  },
  {
   "cell_type": "markdown",
   "metadata": {},
   "source": [
    "Question: Maybe we can use the property of $\\textbf{set}$ to reduce the time required to solve the diffusion equation?"
   ]
  }
 ],
 "metadata": {
  "interpreter": {
   "hash": "726782a55eb1f8c968fa3c0a110980b753af8602a37f7fa7fa52afcc5094d461"
  },
  "kernelspec": {
   "display_name": "Python 3.9.7 ('base')",
   "language": "python",
   "name": "python3"
  },
  "language_info": {
   "codemirror_mode": {
    "name": "ipython",
    "version": 3
   },
   "file_extension": ".py",
   "mimetype": "text/x-python",
   "name": "python",
   "nbconvert_exporter": "python",
   "pygments_lexer": "ipython3",
   "version": "3.9.7"
  },
  "orig_nbformat": 4
 },
 "nbformat": 4,
 "nbformat_minor": 2
}
